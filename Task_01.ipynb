{
  "nbformat": 4,
  "nbformat_minor": 0,
  "metadata": {
    "colab": {
      "name": "Spark_Task_01.ipynb",
      "provenance": [],
      "collapsed_sections": []
    },
    "kernelspec": {
      "name": "python3",
      "display_name": "Python 3"
    },
    "language_info": {
      "name": "python"
    }
  },
  "cells": [
    {
      "cell_type": "markdown",
      "metadata": {
        "id": "Wsk4yo92RkJ8"
      },
      "source": [
        "## **Author : Devyani Channe**\n",
        "##**Email : devyanichanne@gmail.com**\n",
        "---\n",
        "\n",
        "### **Task 1 : Prediction using Supervised Machine Learning**\n",
        "\n",
        "\n",
        "###**To Predict :**\n",
        "####What will predicted score if a student studies for 9.25 hrs/day.### \n",
        "---\n",
        "\n",
        "### **GRIP @ The Spark's Foundation[Batch  September-2021]**\n",
        "\n",
        "---\n",
        "## **Role : Data Science And Business Analytics**\n",
        "\n",
        "## **TABLE OF CONTENTS :**\n",
        "    \n",
        "\n",
        "1.  Introduction\n",
        "2.  Import the dependencies \n",
        "1.  Loading the Data \n",
        "2.  Understanding Data\n",
        "1.  Splitting data in Test and Train \n",
        "2.  Simple Linear Regression Model to do prediction \n",
        "1.  Task \n",
        "2.  Evaluate the model using MAE and MSE metrics \n",
        "1.  Conclusion \n",
        "\n",
        "#**Introduction**\n",
        "\n",
        "<ul>\n",
        "  <li> We have given Students dataset, which have only two features Houres and scores</li>\n",
        "  <li> Predict the percentage of an student based on number of study hours</li>\n",
        "  <li> This is simple linear regression task because it involves just 2 variables</li>\n",
        "  <li> We can use R,python,SAS Enterprise Miner or any other tool</li>\n",
        "  <li> Data can be found at <a href=\"http://bit.ly/w-data\">http://bit.ly/w-data</a></li>\n",
        "</ul>\n",
        "\n",
        "#**Importing dependencies**\n",
        "\n",
        "\n",
        "\n",
        "\n"
      ]
    },
    {
      "cell_type": "code",
      "metadata": {
        "id": "GQK41K5SnVe6"
      },
      "source": [
        "#importing packages\n",
        "import matplotlib.pyplot as plt\n",
        "import numpy as np\n",
        "import pandas as pd\n",
        "import seaborn as sns\n",
        "%matplotlib inline"
      ],
      "execution_count": null,
      "outputs": []
    },
    {
      "cell_type": "markdown",
      "metadata": {
        "id": "PSu6kLPGn02X"
      },
      "source": [
        "#**Loading the Data**"
      ]
    },
    {
      "cell_type": "code",
      "metadata": {
        "id": "dqqyYKPBsQ26"
      },
      "source": [
        "#importing datasets\n",
        "url = \"http://bit.ly/w-data\"\n",
        "data = pd.read_csv(url)"
      ],
      "execution_count": null,
      "outputs": []
    },
    {
      "cell_type": "markdown",
      "metadata": {
        "id": "PHw1ndEasiUd"
      },
      "source": [
        "#**Understanding data**"
      ]
    },
    {
      "cell_type": "code",
      "metadata": {
        "colab": {
          "base_uri": "https://localhost:8080/",
          "height": 142
        },
        "id": "8BOEbkcbsRhq",
        "outputId": "09dcaee8-8778-435b-e170-1b2a84847ffe"
      },
      "source": [
        "display(data.head(3))"
      ],
      "execution_count": null,
      "outputs": [
        {
          "output_type": "display_data",
          "data": {
            "text/html": [
              "<div>\n",
              "<style scoped>\n",
              "    .dataframe tbody tr th:only-of-type {\n",
              "        vertical-align: middle;\n",
              "    }\n",
              "\n",
              "    .dataframe tbody tr th {\n",
              "        vertical-align: top;\n",
              "    }\n",
              "\n",
              "    .dataframe thead th {\n",
              "        text-align: right;\n",
              "    }\n",
              "</style>\n",
              "<table border=\"1\" class=\"dataframe\">\n",
              "  <thead>\n",
              "    <tr style=\"text-align: right;\">\n",
              "      <th></th>\n",
              "      <th>Hours</th>\n",
              "      <th>Scores</th>\n",
              "    </tr>\n",
              "  </thead>\n",
              "  <tbody>\n",
              "    <tr>\n",
              "      <th>0</th>\n",
              "      <td>2.5</td>\n",
              "      <td>21</td>\n",
              "    </tr>\n",
              "    <tr>\n",
              "      <th>1</th>\n",
              "      <td>5.1</td>\n",
              "      <td>47</td>\n",
              "    </tr>\n",
              "    <tr>\n",
              "      <th>2</th>\n",
              "      <td>3.2</td>\n",
              "      <td>27</td>\n",
              "    </tr>\n",
              "  </tbody>\n",
              "</table>\n",
              "</div>"
            ],
            "text/plain": [
              "   Hours  Scores\n",
              "0    2.5      21\n",
              "1    5.1      47\n",
              "2    3.2      27"
            ]
          },
          "metadata": {}
        }
      ]
    },
    {
      "cell_type": "code",
      "metadata": {
        "colab": {
          "base_uri": "https://localhost:8080/",
          "height": 142
        },
        "id": "tXF4MMoUsx0Q",
        "outputId": "846337b3-6ea2-46b6-cccf-66960d2fcbc5"
      },
      "source": [
        "display(data.tail(3))"
      ],
      "execution_count": null,
      "outputs": [
        {
          "output_type": "display_data",
          "data": {
            "text/html": [
              "<div>\n",
              "<style scoped>\n",
              "    .dataframe tbody tr th:only-of-type {\n",
              "        vertical-align: middle;\n",
              "    }\n",
              "\n",
              "    .dataframe tbody tr th {\n",
              "        vertical-align: top;\n",
              "    }\n",
              "\n",
              "    .dataframe thead th {\n",
              "        text-align: right;\n",
              "    }\n",
              "</style>\n",
              "<table border=\"1\" class=\"dataframe\">\n",
              "  <thead>\n",
              "    <tr style=\"text-align: right;\">\n",
              "      <th></th>\n",
              "      <th>Hours</th>\n",
              "      <th>Scores</th>\n",
              "    </tr>\n",
              "  </thead>\n",
              "  <tbody>\n",
              "    <tr>\n",
              "      <th>22</th>\n",
              "      <td>3.8</td>\n",
              "      <td>35</td>\n",
              "    </tr>\n",
              "    <tr>\n",
              "      <th>23</th>\n",
              "      <td>6.9</td>\n",
              "      <td>76</td>\n",
              "    </tr>\n",
              "    <tr>\n",
              "      <th>24</th>\n",
              "      <td>7.8</td>\n",
              "      <td>86</td>\n",
              "    </tr>\n",
              "  </tbody>\n",
              "</table>\n",
              "</div>"
            ],
            "text/plain": [
              "    Hours  Scores\n",
              "22    3.8      35\n",
              "23    6.9      76\n",
              "24    7.8      86"
            ]
          },
          "metadata": {}
        }
      ]
    },
    {
      "cell_type": "code",
      "metadata": {
        "colab": {
          "base_uri": "https://localhost:8080/"
        },
        "id": "aJMNV1oYs7Eq",
        "outputId": "858b0ac1-e1fc-4f3d-f3dd-e9d090c5b1de"
      },
      "source": [
        "print(type(data))\n",
        "print('-'*45)\n",
        "print('The data set has {} rows and {} columns'.format(data.shape[0],data.shape[1]))\n",
        "print('-'*45)\n",
        "print('Data Types : ')\n",
        "print(data.dtypes.value_counts())\n",
        "#print('Total : ',data.dtype.value_counts().sum())\n",
        "print('-'*45)"
      ],
      "execution_count": null,
      "outputs": [
        {
          "output_type": "stream",
          "name": "stdout",
          "text": [
            "<class 'pandas.core.frame.DataFrame'>\n",
            "---------------------------------------------\n",
            "The data set has 25 rows and 2 columns\n",
            "---------------------------------------------\n",
            "Data Types : \n",
            "int64      1\n",
            "float64    1\n",
            "dtype: int64\n",
            "---------------------------------------------\n"
          ]
        }
      ]
    },
    {
      "cell_type": "code",
      "metadata": {
        "colab": {
          "base_uri": "https://localhost:8080/"
        },
        "id": "JUzoHiv-usG6",
        "outputId": "6b74040d-07d6-4cc2-b068-79857da65ad5"
      },
      "source": [
        "data.info()"
      ],
      "execution_count": null,
      "outputs": [
        {
          "output_type": "stream",
          "name": "stdout",
          "text": [
            "<class 'pandas.core.frame.DataFrame'>\n",
            "RangeIndex: 25 entries, 0 to 24\n",
            "Data columns (total 2 columns):\n",
            " #   Column  Non-Null Count  Dtype  \n",
            "---  ------  --------------  -----  \n",
            " 0   Hours   25 non-null     float64\n",
            " 1   Scores  25 non-null     int64  \n",
            "dtypes: float64(1), int64(1)\n",
            "memory usage: 528.0 bytes\n"
          ]
        }
      ]
    },
    {
      "cell_type": "code",
      "metadata": {
        "colab": {
          "base_uri": "https://localhost:8080/"
        },
        "id": "53j6cPdquyRh",
        "outputId": "3a95bcf9-bb13-4838-e3a7-b346f3a36a69"
      },
      "source": [
        "# Check for the missing values\n",
        "data.isnull().sum()"
      ],
      "execution_count": null,
      "outputs": [
        {
          "output_type": "execute_result",
          "data": {
            "text/plain": [
              "Hours     0\n",
              "Scores    0\n",
              "dtype: int64"
            ]
          },
          "metadata": {},
          "execution_count": 9
        }
      ]
    },
    {
      "cell_type": "markdown",
      "metadata": {
        "id": "UFMS5vIcvS0r"
      },
      "source": [
        "##**Observation**\n",
        "<ul>\n",
        " <li> There is no missing or null value and hence there is no need to do data processing</li>\n",
        "</ul>\n",
        "\n",
        "#**Data Visualization**"
      ]
    },
    {
      "cell_type": "code",
      "metadata": {
        "colab": {
          "base_uri": "https://localhost:8080/"
        },
        "id": "xsRRsPvRwD3h",
        "outputId": "0f7b4c87-ab7e-49ab-b917-6bd173270218"
      },
      "source": [
        "x = data.iloc[:,:-1].values\n",
        "y = data.iloc[:,-1].values\n",
        "print(x[:5])\n",
        "print(y[:5])"
      ],
      "execution_count": null,
      "outputs": [
        {
          "output_type": "stream",
          "name": "stdout",
          "text": [
            "[[2.5]\n",
            " [5.1]\n",
            " [3.2]\n",
            " [8.5]\n",
            " [3.5]]\n",
            "[21 47 27 75 30]\n"
          ]
        }
      ]
    },
    {
      "cell_type": "code",
      "metadata": {
        "colab": {
          "base_uri": "https://localhost:8080/",
          "height": 295
        },
        "id": "5mE1xTyNwf_N",
        "outputId": "6fe1b9ec-c015-4ec7-cfbf-dbc2a592971a"
      },
      "source": [
        "plt.title('Hours Studied vs Percentage Score')\n",
        "plt.xlabel('Hours Studied')\n",
        "plt.ylabel('Percentage Score')\n",
        "plt.scatter(x,y,color='orange',marker='*')\n",
        "plt.grid()\n",
        "plt.show()"
      ],
      "execution_count": null,
      "outputs": [
        {
          "output_type": "display_data",
          "data": {
            "image/png": "[encoded data removed]",
            "text/plain": [
              "<Figure size 432x288 with 1 Axes>"
            ]
          },
          "metadata": {
            "needs_background": "light"
          }
        }
      ]
    },
    {
      "cell_type": "markdown",
      "metadata": {
        "id": "U_iWbULNyWAO"
      },
      "source": [
        "##**Observation**\n",
        "<ul>\n",
        " <li>From the graph we can assume a positive linear relation between the number of hours studied and percentage score</li>\n",
        "</ul>\n",
        "\n"
      ]
    },
    {
      "cell_type": "markdown",
      "metadata": {
        "id": "BqN64Q8Uy-gc"
      },
      "source": [
        "#**Splitting data in x_train, x_test and y_train , y_test**\n"
      ]
    },
    {
      "cell_type": "code",
      "metadata": {
        "id": "USZX_WqGzY1d"
      },
      "source": [
        "from sklearn.model_selection import train_test_split\n",
        "x_train,x_test,y_train,y_test = train_test_split(x,y,test_size = 0.26, random_state =0)"
      ],
      "execution_count": null,
      "outputs": []
    },
    {
      "cell_type": "markdown",
      "metadata": {
        "id": "NOVVFlY20nac"
      },
      "source": [
        "#**Apply Linear Regression on train data**"
      ]
    },
    {
      "cell_type": "code",
      "metadata": {
        "colab": {
          "base_uri": "https://localhost:8080/"
        },
        "id": "Mz425dWV02gJ",
        "outputId": "72d54584-540a-4d09-f338-0bb7e043e79e"
      },
      "source": [
        "from sklearn.linear_model import LinearRegression\n",
        "lin_reg = LinearRegression()\n",
        "lin_reg.fit(x_train,y_train)"
      ],
      "execution_count": null,
      "outputs": [
        {
          "output_type": "execute_result",
          "data": {
            "text/plain": [
              "LinearRegression(copy_X=True, fit_intercept=True, n_jobs=None, normalize=False)"
            ]
          },
          "metadata": {},
          "execution_count": 11
        }
      ]
    },
    {
      "cell_type": "code",
      "metadata": {
        "colab": {
          "base_uri": "https://localhost:8080/",
          "height": 279
        },
        "id": "XvQhzGim2cXp",
        "outputId": "114d26d7-09e8-42ee-a075-d6b21bec23c3"
      },
      "source": [
        "plt.xlabel('Hours Studied')\n",
        "plt.ylabel('Percentage Score')\n",
        "plt.scatter(x_train,y_train,color='green',marker='*',label='scatter plot')\n",
        "plt.plot(x_train,lin_reg.predict(x_train),color='red',label='reg_line')\n",
        "plt.legend()\n",
        "plt.grid()\n",
        "plt.show()"
      ],
      "execution_count": null,
      "outputs": [
        {
          "output_type": "display_data",
          "data": {
            "image/png": "[encoded data removed]",
            "text/plain": [
              "<Figure size 432x288 with 1 Axes>"
            ]
          },
          "metadata": {
            "needs_background": "light"
          }
        }
      ]
    },
    {
      "cell_type": "markdown",
      "metadata": {
        "id": "KcUspKdm5aQU"
      },
      "source": [
        "##**Apply Linear Regression on test data**\n"
      ]
    },
    {
      "cell_type": "code",
      "metadata": {
        "colab": {
          "base_uri": "https://localhost:8080/",
          "height": 279
        },
        "id": "QEr0Z75d5jfl",
        "outputId": "d407b170-ddf9-4102-e643-6671917e43f0"
      },
      "source": [
        "plt.xlabel('Hours Studied')\n",
        "plt.ylabel('Percentage Score')\n",
        "plt.scatter(x_test,y_test,color='purple',marker='*',label='scatter plot')\n",
        "plt.plot(x_train,lin_reg.predict(x_train),color='blue',label='reg_line')\n",
        "plt.legend()\n",
        "plt.grid()\n",
        "plt.show()"
      ],
      "execution_count": null,
      "outputs": [
        {
          "output_type": "display_data",
          "data": {
            "image/png": "[encoded data removed]",
            "text/plain": [
              "<Figure size 432x288 with 1 Axes>"
            ]
          },
          "metadata": {
            "needs_background": "light"
          }
        }
      ]
    },
    {
      "cell_type": "markdown",
      "metadata": {
        "id": "b03T2nNX8jCV"
      },
      "source": [
        "##**Coefficient and y-intercept**\n"
      ]
    },
    {
      "cell_type": "code",
      "metadata": {
        "colab": {
          "base_uri": "https://localhost:8080/"
        },
        "id": "JRGLKIix8y0T",
        "outputId": "220dc8df-6a10-4679-931d-4d44fbfbcb4d"
      },
      "source": [
        "print('coefficient : ',lin_reg.coef_)\n",
        "print('y-intercept : ',lin_reg.intercept_)"
      ],
      "execution_count": null,
      "outputs": [
        {
          "output_type": "stream",
          "name": "stdout",
          "text": [
            "coefficient :  [9.94167834]\n",
            "y-intercept :  1.9322042531516601\n"
          ]
        }
      ]
    },
    {
      "cell_type": "code",
      "metadata": {
        "colab": {
          "base_uri": "https://localhost:8080/"
        },
        "id": "wGYWOkZb9OSh",
        "outputId": "9562d8e4-6468-4e5f-e4cd-0317fed75e01"
      },
      "source": [
        "y_pred = lin_reg.predict(x_test)\n",
        "y_pred"
      ],
      "execution_count": null,
      "outputs": [
        {
          "output_type": "execute_result",
          "data": {
            "text/plain": [
              "array([16.84472176, 33.74557494, 75.50062397, 26.7864001 , 60.58810646,\n",
              "       39.71058194, 20.8213931 ])"
            ]
          },
          "metadata": {},
          "execution_count": 15
        }
      ]
    },
    {
      "cell_type": "markdown",
      "metadata": {
        "id": "8kJtctS59Zve"
      },
      "source": [
        "#**Comparing Actual value with Predicted value**\n"
      ]
    },
    {
      "cell_type": "code",
      "metadata": {
        "colab": {
          "base_uri": "https://localhost:8080/",
          "height": 265
        },
        "id": "Z7tC5_D79rRj",
        "outputId": "54ea1bbe-4206-4be6-d859-18f142e4ac42"
      },
      "source": [
        "result = pd.DataFrame({'Actual values':y_test,'Predicted values':y_pred})\n",
        "result"
      ],
      "execution_count": null,
      "outputs": [
        {
          "output_type": "execute_result",
          "data": {
            "text/html": [
              "<div>\n",
              "<style scoped>\n",
              "    .dataframe tbody tr th:only-of-type {\n",
              "        vertical-align: middle;\n",
              "    }\n",
              "\n",
              "    .dataframe tbody tr th {\n",
              "        vertical-align: top;\n",
              "    }\n",
              "\n",
              "    .dataframe thead th {\n",
              "        text-align: right;\n",
              "    }\n",
              "</style>\n",
              "<table border=\"1\" class=\"dataframe\">\n",
              "  <thead>\n",
              "    <tr style=\"text-align: right;\">\n",
              "      <th></th>\n",
              "      <th>Actual values</th>\n",
              "      <th>Predicted values</th>\n",
              "    </tr>\n",
              "  </thead>\n",
              "  <tbody>\n",
              "    <tr>\n",
              "      <th>0</th>\n",
              "      <td>20</td>\n",
              "      <td>16.844722</td>\n",
              "    </tr>\n",
              "    <tr>\n",
              "      <th>1</th>\n",
              "      <td>27</td>\n",
              "      <td>33.745575</td>\n",
              "    </tr>\n",
              "    <tr>\n",
              "      <th>2</th>\n",
              "      <td>69</td>\n",
              "      <td>75.500624</td>\n",
              "    </tr>\n",
              "    <tr>\n",
              "      <th>3</th>\n",
              "      <td>30</td>\n",
              "      <td>26.786400</td>\n",
              "    </tr>\n",
              "    <tr>\n",
              "      <th>4</th>\n",
              "      <td>62</td>\n",
              "      <td>60.588106</td>\n",
              "    </tr>\n",
              "    <tr>\n",
              "      <th>5</th>\n",
              "      <td>35</td>\n",
              "      <td>39.710582</td>\n",
              "    </tr>\n",
              "    <tr>\n",
              "      <th>6</th>\n",
              "      <td>24</td>\n",
              "      <td>20.821393</td>\n",
              "    </tr>\n",
              "  </tbody>\n",
              "</table>\n",
              "</div>"
            ],
            "text/plain": [
              "   Actual values  Predicted values\n",
              "0             20         16.844722\n",
              "1             27         33.745575\n",
              "2             69         75.500624\n",
              "3             30         26.786400\n",
              "4             62         60.588106\n",
              "5             35         39.710582\n",
              "6             24         20.821393"
            ]
          },
          "metadata": {},
          "execution_count": 16
        }
      ]
    },
    {
      "cell_type": "code",
      "metadata": {
        "colab": {
          "base_uri": "https://localhost:8080/",
          "height": 534
        },
        "id": "cqMCoAI2-elQ",
        "outputId": "2f4b171b-95d2-462d-f7ff-521a32c544ee"
      },
      "source": [
        "#Plotting the Bar graph to depict the difference between the actual and predicted value\n",
        "result.plot(kind='bar',figsize=(9,9))\n",
        "plt.grid(which='major', linewidth='0.5', color='blue')\n",
        "plt.grid(which='minor', linewidth='0.5', color='red' )\n",
        "plt.show()"
      ],
      "execution_count": null,
      "outputs": [
        {
          "output_type": "display_data",
          "data": {
            "image/png": "[encoded data removed]",
            "text/plain": [
              "<Figure size 648x648 with 1 Axes>"
            ]
          },
          "metadata": {
            "needs_background": "light"
          }
        }
      ]
    },
    {
      "cell_type": "code",
      "metadata": {
        "colab": {
          "base_uri": "https://localhost:8080/"
        },
        "id": "mGPTCNOWAL-5",
        "outputId": "9622d947-858b-4ab1-a8f9-6c4ae193ee69"
      },
      "source": [
        "diff = np.array(np.abs(y_test-y_pred))\n",
        "diff"
      ],
      "execution_count": null,
      "outputs": [
        {
          "output_type": "execute_result",
          "data": {
            "text/plain": [
              "array([3.15527824, 6.74557494, 6.50062397, 3.2135999 , 1.41189354,\n",
              "       4.71058194, 3.1786069 ])"
            ]
          },
          "metadata": {},
          "execution_count": 18
        }
      ]
    },
    {
      "cell_type": "markdown",
      "metadata": {
        "id": "HCvXlbTXAbxt"
      },
      "source": [
        "#**Displot distribution of Actual value with Predicted value**\n"
      ]
    },
    {
      "cell_type": "code",
      "metadata": {
        "colab": {
          "base_uri": "https://localhost:8080/",
          "height": 265
        },
        "id": "fgKpFDIUApDh",
        "outputId": "5adc7f93-77d4-4dfb-fc59-93ad00933e2e"
      },
      "source": [
        "sns.set_style('whitegrid')\n",
        "sns.kdeplot(diff,shade=True)\n",
        "plt.show()"
      ],
      "execution_count": null,
      "outputs": [
        {
          "output_type": "display_data",
          "data": {
            "image/png": "[encoded data removed]",
            "text/plain": [
              "<Figure size 432x288 with 1 Axes>"
            ]
          },
          "metadata": {}
        }
      ]
    },
    {
      "cell_type": "markdown",
      "metadata": {
        "id": "JKhNRGtVDDUD"
      },
      "source": [
        "#**Task**\n",
        "\n",
        "##**What will be predicted score if a student studies for 9.25 hrs/day ?**\n"
      ]
    },
    {
      "cell_type": "code",
      "metadata": {
        "colab": {
          "base_uri": "https://localhost:8080/"
        },
        "id": "A85KSAwuDhDE",
        "outputId": "1b5fdfcd-cb6a-49dd-e8c2-ebd71e56a493"
      },
      "source": [
        "import math\n",
        "# y = mx+c\n",
        "res = lin_reg.intercept_+9.25*lin_reg.coef_\n",
        "hr=9.25\n",
        "print(\"If student study for {} hrs/day student will get {}% score in exam\".format(hr,math.floor(res[0])))\n",
        "print('_'*80)"
      ],
      "execution_count": null,
      "outputs": [
        {
          "output_type": "stream",
          "name": "stdout",
          "text": [
            "If student study for 9.25 hrs/day student will get 93% score in exam\n",
            "________________________________________________________________________________\n"
          ]
        }
      ]
    },
    {
      "cell_type": "markdown",
      "metadata": {
        "id": "_UdGzzQyFYXP"
      },
      "source": [
        "##**Model Evaluation**\n",
        "\n",
        "##**MAE :**\n",
        "<ul>\n",
        " <li>MAE measures the diffrence between predicted and actual observation.</li>\n",
        "  Formula is given by :\n",
        "</ul>\n",
        "<ul><ul><ul><ul><ul>\n",
        "      <img src = \"https://miro.medium.com/max/630/1*OVlFLnMwHDx08PHzqlBDag.gif\" width=\"300px\">\n",
        "</ul></ul></ul></ul></ul>\n",
        "  "
      ]
    },
    {
      "cell_type": "code",
      "metadata": {
        "colab": {
          "base_uri": "https://localhost:8080/"
        },
        "id": "Xej5Z1S6xzzB",
        "outputId": "c049ad33-1821-456e-8e35-84d1a0e3967f"
      },
      "source": [
        "from sklearn import metrics\n",
        "print('Mean Absolute Error:',metrics.mean_absolute_error(y_test,y_pred))"
      ],
      "execution_count": null,
      "outputs": [
        {
          "output_type": "stream",
          "name": "stdout",
          "text": [
            "Mean Absolute Error: 4.130879918502482\n"
          ]
        }
      ]
    },
    {
      "cell_type": "markdown",
      "metadata": {
        "id": "jhwC5lksyj2_"
      },
      "source": [
        "##**MSE :**\n",
        " \n",
        " <ul>\n",
        " <li>MSE refers to the mean of squared difference between predicted value and the observed value.</li>\n",
        "  Formula is given by :\n",
        "</ul>\n",
        "<ul><ul><ul><ul><ul>\n",
        "<img src = \"https://miro.medium.com/max/808/1*-e1QGatrODWpJkEwqP4Jyg.png\" width=\"300px\" >\n",
        "</ul></ul></ul></ul></ul>"
      ]
    },
    {
      "cell_type": "code",
      "metadata": {
        "colab": {
          "base_uri": "https://localhost:8080/"
        },
        "id": "hLClCyWo0I5U",
        "outputId": "13f32cc6-8c3b-4a27-b828-64ef6a3902d9"
      },
      "source": [
        "from sklearn import metrics\n",
        "print('Mean Squared Error:',metrics.mean_squared_error(y_test, y_pred))"
      ],
      "execution_count": null,
      "outputs": [
        {
          "output_type": "stream",
          "name": "stdout",
          "text": [
            "Mean Squared Error: 20.33292367497996\n"
          ]
        }
      ]
    },
    {
      "cell_type": "markdown",
      "metadata": {
        "id": "5N1DjHO43nPI"
      },
      "source": [
        "##**R-Square :**\n",
        "<ul>\n",
        "<li>R-squared is measure of how close the data are to be fitted in regression line.</li>\n",
        "Formula is given by : \n",
        "</ul>\n",
        "<ul><ul><ul><ul><ul>\n",
        "<img src = \"https://miro.medium.com/max/1400/1*G8x7JvSQxJKbiOm8T7cmLg.png\" width='400 px'>"
      ]
    },
    {
      "cell_type": "code",
      "metadata": {
        "colab": {
          "base_uri": "https://localhost:8080/"
        },
        "id": "Q0gmB5Z24_mV",
        "outputId": "aa16c1f4-9e2f-4cdb-e509-7ffa172f7012"
      },
      "source": [
        "from sklearn.metrics import r2_score\n",
        "r2_score(y_test,y_pred)"
      ],
      "execution_count": null,
      "outputs": [
        {
          "output_type": "execute_result",
          "data": {
            "text/plain": [
              "0.9367661043365056"
            ]
          },
          "metadata": {},
          "execution_count": 29
        }
      ]
    },
    {
      "cell_type": "markdown",
      "metadata": {
        "id": "TWvWObTY5alh"
      },
      "source": [
        "##**Conclusion :** \n",
        "<ul>\n",
        "<li>We have successfully created a Simple linear Regression model to predict percentage score of students given nomber of hours one studied.</li>\n",
        "<li>By computing the MAE(Mean Absolute Error) and MSE(Mean Squared Error) , we are not getting much diffrence in actual and predicted value that means error is less. </li>\n",
        "<li>The Score of R-Square is 0.93 which is quite close to 1.</li>\n",
        "</ul>"
      ]
    }
  ]
}